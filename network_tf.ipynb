{
 "cells": [
  {
   "attachments": {},
   "cell_type": "markdown",
   "metadata": {},
   "source": [
    "This is a neural network based on the modified U-Net architecture found in the DeepHarmony paper (as pictured below). In addition, it features batch normalization layers integrated within the network and a compound loss function made up of MS-SSIM and L1. \n"
   ]
  },
  {
   "attachments": {},
   "cell_type": "markdown",
   "metadata": {},
   "source": [
    "Importing necessary modules"
   ]
  },
  {
   "cell_type": "code",
   "execution_count": 3,
   "metadata": {},
   "outputs": [],
   "source": [
    "import tensorflow as tf\n",
    "import os\n",
    "import skimage.io as io \n",
    "import skimage.transform as trans\n",
    "from skimage.metrics import structural_similarity as ssim\n",
    "from keras.models import *\n",
    "from keras.layers import *\n",
    "from keras.optimizers import *\n",
    "from keras.activations import *\n",
    "from keras.metrics import mean_squared_error as mse\n",
    "from keras.callbacks import ModelCheckpoint, TensorBoard\n",
    "import matplotlib.pyplot as plt\n",
    "import numpy as np\n",
    "from random import random\n",
    "from Preprocessing import Preprocessing\n",
    "import fnmatch"
   ]
  },
  {
   "attachments": {},
   "cell_type": "markdown",
   "metadata": {},
   "source": [
    "\n",
    "Definition of the Network Class, including loss function definition and convolution definitions"
   ]
  },
  {
   "cell_type": "code",
   "execution_count": 8,
   "metadata": {},
   "outputs": [],
   "source": [
    "class Unet:\n",
    "\n",
    "    # initialization, including declaration of input sizes, coefficients for loss function\n",
    "    def __init__(self, input_folder, output_folder):\n",
    "        self.input_folder = input_folder\n",
    "        self.output_folder = output_folder\n",
    "        self.input_size = (512, 512, 1)\n",
    "\n",
    "    def ssim_loss(self, y_true, y_pred):\n",
    "        return tf.reduce_mean(tf.image.ssim(y_true, y_pred, 2.0))\n",
    "\n",
    "    # side convolution\n",
    "    def convolution(self, inp, n_filters):\n",
    "        conv = Conv2D(n_filters, 3, activation=\"relu\", padding=\"same\", kernel_initializer=\"he_normal\")(inp)\n",
    "        bn = BatchNormalization(axis=1, momentum=0.99, epsilon=0.0001)(conv)\n",
    "        return bn\n",
    "        \n",
    "    # down convolution\n",
    "    def down_convolution(self, inp, n_filters):\n",
    "        conv = Conv2D(n_filters, (4, 4), activation=\"relu\", padding=\"same\", strides=(2,2), kernel_initializer=\"he_normal\")(inp)\n",
    "        bn = bn = BatchNormalization(axis=1, momentum=0.99, epsilon=0.0001)(conv)\n",
    "        return bn\n",
    "\n",
    "    # up convolution\n",
    "    def up_convolution(self, inp, n_filters, conv_features):\n",
    "        deconvolution = Conv2DTranspose(n_filters, (4, 4), activation = 'relu', padding = 'same', strides=(0.5, 0.5), kernel_initializer = 'he_normal')(inp)\n",
    "        concatenation = Concatenate([conv_features, deconvolution], axis=3)\n",
    "        return concatenation\n",
    "\n",
    "\n",
    "    # definition of neural network\n",
    "    def unet(self, pretrained_weights=None):\n",
    "\n",
    "        inputs = Input(self.input_size)\n",
    "        \n",
    "        # side\n",
    "        conv1 = self.convolution(inputs, 16)\n",
    "\n",
    "        # down\n",
    "        conv2 = self.down_convolution(conv1, 16)\n",
    "        \n",
    "        # side\n",
    "        conv3 = self.convolution(conv2, 32)\n",
    "        \n",
    "        # down\n",
    "        conv4 = self.down_convolution(conv3, 32)\n",
    "\n",
    "        # side\n",
    "        conv5 = self.convolution(conv4, 64)\n",
    "\n",
    "        # down\n",
    "        conv6 = self.down_convolution(conv5, 64)\n",
    "\n",
    "        # side\n",
    "        conv7 = self.convolution(conv6, 128)\n",
    "\n",
    "        # down \n",
    "        conv8 = self.down_convolution(conv7, 128)\n",
    "        \n",
    "        # side\n",
    "        conv9 = self.convolution(conv8, 256)\n",
    "\n",
    "        # up and merge\n",
    "        conv10 = self.up_convolution(conv9, 128, conv7)\n",
    "\n",
    "        # side\n",
    "        conv11 = self.convolution(conv10, 128)\n",
    "\n",
    "        # up and merge\n",
    "        conv12 = self.up_convolution(conv11, 64, conv5)\n",
    "\n",
    "        # side \n",
    "        conv13 = self.convolution(conv12, 64)\n",
    "\n",
    "        # up and merge\n",
    "        conv14 = self.up_convolution(conv13, 32, conv3)\n",
    "\n",
    "        # side \n",
    "        conv15 = self.convolution(conv14, 32)\n",
    "\n",
    "        # up and merge\n",
    "        conv16 = self.up_convolution(conv15, 16, conv1)\n",
    "\n",
    "        # side and merge \n",
    "        conv17 = self.convolution(conv16, 16)\n",
    "        merge = Concatenate([inputs, conv17], axis=3)\n",
    "\n",
    "        # final side\n",
    "        conv18 = Conv2D(1, 1, activation=\"relu\", padding=\"same\", kernel_initializer=\"he_normal\")(merge)\n",
    "\n",
    "        model = Model(input = inputs, output = conv18)\n",
    "        model.compile(optimizer= Adam(lr = 1e-4),loss=self.ssim_loss,metrics=[\"accuracy\"])\n",
    "        model.summary()\n"
   ]
  },
  {
   "attachments": {},
   "cell_type": "markdown",
   "metadata": {},
   "source": [
    "Importing Data, running preprocessing programs, and Splitting into training and validation"
   ]
  },
  {
   "cell_type": "code",
   "execution_count": 9,
   "metadata": {},
   "outputs": [],
   "source": [
    "preprocessing = Preprocessing(\"./data/modified/\", \"./data/preprocessed/\")\n",
    "training = []\n",
    "testing = []\n",
    "validation = []\n",
    "input_files = os.listdir(preprocessing.input_folder)\n",
    "\n",
    "for i in range(179):\n",
    "    training.append(input_files[i])\n",
    "\n",
    "for i in range(179, 223):\n",
    "    testing.append(input_files[i])\n",
    "\n",
    "for i in range (223, 267):\n",
    "    validation.append(input_files[i])\n"
   ]
  },
  {
   "attachments": {},
   "cell_type": "markdown",
   "metadata": {},
   "source": [
    "Training Model"
   ]
  },
  {
   "cell_type": "code",
   "execution_count": 10,
   "metadata": {},
   "outputs": [
    {
     "ename": "TypeError",
     "evalue": "Exception encountered when calling layer \"conv2d_transpose_2\" (type Conv2DTranspose).\n\nTensors in list passed to 'values' of 'Pack' Op have types [int32, float32, float32, int32] that don't all match.\n\nCall arguments received by layer \"conv2d_transpose_2\" (type Conv2DTranspose):\n  • inputs=tf.Tensor(shape=(None, 32, 32, 256), dtype=float32)",
     "output_type": "error",
     "traceback": [
      "\u001b[0;31m---------------------------------------------------------------------------\u001b[0m",
      "\u001b[0;31mTypeError\u001b[0m                                 Traceback (most recent call last)",
      "Cell \u001b[0;32mIn[10], line 2\u001b[0m\n\u001b[1;32m      1\u001b[0m model \u001b[39m=\u001b[39m Unet(\u001b[39m\"\u001b[39m\u001b[39m./data/preprocessed\u001b[39m\u001b[39m\"\u001b[39m, \u001b[39m\"\u001b[39m\u001b[39m./data/postprocessed/\u001b[39m\u001b[39m\"\u001b[39m)\n\u001b[0;32m----> 2\u001b[0m mrimprov \u001b[39m=\u001b[39m model\u001b[39m.\u001b[39;49munet()\n",
      "Cell \u001b[0;32mIn[8], line 64\u001b[0m, in \u001b[0;36mUnet.unet\u001b[0;34m(self, pretrained_weights)\u001b[0m\n\u001b[1;32m     61\u001b[0m conv9 \u001b[39m=\u001b[39m \u001b[39mself\u001b[39m\u001b[39m.\u001b[39mconvolution(conv8, \u001b[39m256\u001b[39m)\n\u001b[1;32m     63\u001b[0m \u001b[39m# up and merge\u001b[39;00m\n\u001b[0;32m---> 64\u001b[0m conv10 \u001b[39m=\u001b[39m \u001b[39mself\u001b[39;49m\u001b[39m.\u001b[39;49mup_convolution(conv9, \u001b[39m128\u001b[39;49m, conv7)\n\u001b[1;32m     66\u001b[0m \u001b[39m# side\u001b[39;00m\n\u001b[1;32m     67\u001b[0m conv11 \u001b[39m=\u001b[39m \u001b[39mself\u001b[39m\u001b[39m.\u001b[39mconvolution(conv10, \u001b[39m128\u001b[39m)\n",
      "Cell \u001b[0;32mIn[8], line 26\u001b[0m, in \u001b[0;36mUnet.up_convolution\u001b[0;34m(self, inp, n_filters, conv_features)\u001b[0m\n\u001b[1;32m     25\u001b[0m \u001b[39mdef\u001b[39;00m \u001b[39mup_convolution\u001b[39m(\u001b[39mself\u001b[39m, inp, n_filters, conv_features):\n\u001b[0;32m---> 26\u001b[0m     deconvolution \u001b[39m=\u001b[39m Conv2DTranspose(n_filters, (\u001b[39m4\u001b[39;49m, \u001b[39m4\u001b[39;49m), activation \u001b[39m=\u001b[39;49m \u001b[39m'\u001b[39;49m\u001b[39mrelu\u001b[39;49m\u001b[39m'\u001b[39;49m, padding \u001b[39m=\u001b[39;49m \u001b[39m'\u001b[39;49m\u001b[39msame\u001b[39;49m\u001b[39m'\u001b[39;49m, strides\u001b[39m=\u001b[39;49m(\u001b[39m0.5\u001b[39;49m, \u001b[39m0.5\u001b[39;49m), kernel_initializer \u001b[39m=\u001b[39;49m \u001b[39m'\u001b[39;49m\u001b[39mhe_normal\u001b[39;49m\u001b[39m'\u001b[39;49m)(inp)\n\u001b[1;32m     27\u001b[0m     concatenation \u001b[39m=\u001b[39m Concatenate([conv_features, deconvolution], axis\u001b[39m=\u001b[39m\u001b[39m3\u001b[39m)\n\u001b[1;32m     28\u001b[0m     \u001b[39mreturn\u001b[39;00m concatenation\n",
      "File \u001b[0;32m~/.local/lib/python3.8/site-packages/keras/utils/traceback_utils.py:70\u001b[0m, in \u001b[0;36mfilter_traceback.<locals>.error_handler\u001b[0;34m(*args, **kwargs)\u001b[0m\n\u001b[1;32m     67\u001b[0m     filtered_tb \u001b[39m=\u001b[39m _process_traceback_frames(e\u001b[39m.\u001b[39m__traceback__)\n\u001b[1;32m     68\u001b[0m     \u001b[39m# To get the full stack trace, call:\u001b[39;00m\n\u001b[1;32m     69\u001b[0m     \u001b[39m# `tf.debugging.disable_traceback_filtering()`\u001b[39;00m\n\u001b[0;32m---> 70\u001b[0m     \u001b[39mraise\u001b[39;00m e\u001b[39m.\u001b[39mwith_traceback(filtered_tb) \u001b[39mfrom\u001b[39;00m \u001b[39mNone\u001b[39m\n\u001b[1;32m     71\u001b[0m \u001b[39mfinally\u001b[39;00m:\n\u001b[1;32m     72\u001b[0m     \u001b[39mdel\u001b[39;00m filtered_tb\n",
      "File \u001b[0;32m~/.local/lib/python3.8/site-packages/tensorflow/python/framework/op_def_library.py:500\u001b[0m, in \u001b[0;36m_ExtractInputsAndAttrs\u001b[0;34m(op_type_name, op_def, allowed_list_attr_map, keywords, default_type_attr_map, attrs, inputs, input_types)\u001b[0m\n\u001b[1;32m    497\u001b[0m     \u001b[39mraise\u001b[39;00m \u001b[39mTypeError\u001b[39;00m(\u001b[39mf\u001b[39m\u001b[39m\"\u001b[39m\u001b[39m{\u001b[39;00mprefix\u001b[39m}\u001b[39;00m\u001b[39m that do not match type \u001b[39m\u001b[39m{\u001b[39;00mdtype\u001b[39m.\u001b[39mname\u001b[39m}\u001b[39;00m\u001b[39m \u001b[39m\u001b[39m\"\u001b[39m\n\u001b[1;32m    498\u001b[0m                     \u001b[39m\"\u001b[39m\u001b[39minferred from earlier arguments.\u001b[39m\u001b[39m\"\u001b[39m)\n\u001b[1;32m    499\u001b[0m   \u001b[39melse\u001b[39;00m:\n\u001b[0;32m--> 500\u001b[0m     \u001b[39mraise\u001b[39;00m \u001b[39mTypeError\u001b[39;00m(\u001b[39mf\u001b[39m\u001b[39m\"\u001b[39m\u001b[39m{\u001b[39;00mprefix\u001b[39m}\u001b[39;00m\u001b[39m that don\u001b[39m\u001b[39m'\u001b[39m\u001b[39mt all match.\u001b[39m\u001b[39m\"\u001b[39m)\n\u001b[1;32m    501\u001b[0m \u001b[39melse\u001b[39;00m:\n\u001b[1;32m    502\u001b[0m   \u001b[39mraise\u001b[39;00m \u001b[39mTypeError\u001b[39;00m(\u001b[39mf\u001b[39m\u001b[39m\"\u001b[39m\u001b[39m{\u001b[39;00mprefix\u001b[39m}\u001b[39;00m\u001b[39m that are invalid. Tensors: \u001b[39m\u001b[39m{\u001b[39;00mvalues\u001b[39m}\u001b[39;00m\u001b[39m\"\u001b[39m)\n",
      "\u001b[0;31mTypeError\u001b[0m: Exception encountered when calling layer \"conv2d_transpose_2\" (type Conv2DTranspose).\n\nTensors in list passed to 'values' of 'Pack' Op have types [int32, float32, float32, int32] that don't all match.\n\nCall arguments received by layer \"conv2d_transpose_2\" (type Conv2DTranspose):\n  • inputs=tf.Tensor(shape=(None, 32, 32, 256), dtype=float32)"
     ]
    }
   ],
   "source": [
    "model = Unet(\"./data/preprocessed\", \"./data/postprocessed/\")\n",
    "mrimprov = model.unet()"
   ]
  }
 ],
 "metadata": {
  "kernelspec": {
   "display_name": "Python 3",
   "language": "python",
   "name": "python3"
  },
  "language_info": {
   "codemirror_mode": {
    "name": "ipython",
    "version": 3
   },
   "file_extension": ".py",
   "mimetype": "text/x-python",
   "name": "python",
   "nbconvert_exporter": "python",
   "pygments_lexer": "ipython3",
   "version": "3.8.10"
  },
  "orig_nbformat": 4,
  "vscode": {
   "interpreter": {
    "hash": "916dbcbb3f70747c44a77c7bcd40155683ae19c65e1c03b4aa3499c5328201f1"
   }
  }
 },
 "nbformat": 4,
 "nbformat_minor": 2
}
